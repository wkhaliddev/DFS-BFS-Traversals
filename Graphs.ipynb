{
 "cells": [
  {
   "cell_type": "code",
   "execution_count": 33,
   "metadata": {},
   "outputs": [],
   "source": [
    "class Node:\n",
    "    def __init__(self,value):\n",
    "        self.value=value\n",
    "        self.next=None"
   ]
  },
  {
   "cell_type": "code",
   "execution_count": 34,
   "metadata": {},
   "outputs": [],
   "source": [
    "class Graph:\n",
    "    def __init__(self,vertices):\n",
    "        self.vertices=vertices\n",
    "        self.graph=[None]*vertices\n",
    "    \n",
    "    def add_edge(self,src,dest):\n",
    "        node=Node(dest)\n",
    "        node.next=self.graph[src]\n",
    "        self.graph[src]=node\n",
    "        \n",
    "        node=Node(src)\n",
    "        node.next=self.graph[dest]\n",
    "        self.graph[dest]=node        \n",
    "    \n",
    "    def print_graph(self):\n",
    "        for i in range(self.vertices):\n",
    "            print (\"Adjacency List of {} \\nhead\".format(i),end=\"\")\n",
    "            curr=self.graph[i]\n",
    "            while curr:\n",
    "                print (\"->{}\".format(curr.value),end=\"\")\n",
    "                curr=curr.next\n",
    "            print (\"\\n\")\n",
    "    def delte_edge(self,edge):\n",
    "        if edge not in range (self.vertices):\n",
    "            print (\"node not present\")\n",
    "        node=self.graph[edge]\n",
    "        e_list=[]\n",
    "        while(node):\n",
    "            e_list.append(node.value)\n",
    "            node=node.next\n",
    "        #print (list)\n",
    "        self.graph[edge]=None\n",
    "        for i in e_list:\n",
    "            node=self.graph[i]\n",
    "            node_prev=self.graph[i]\n",
    "            while(node.value!=edge):\n",
    "                node_prev=node\n",
    "                node=node.next\n",
    "            if (node.next==None):\n",
    "                node_prev.next=None\n",
    "            else:\n",
    "                node=node.next\n",
    "                node_prev.next=node"
   ]
  },
  {
   "cell_type": "code",
   "execution_count": 35,
   "metadata": {},
   "outputs": [],
   "source": [
    "graph=Graph(5)"
   ]
  },
  {
   "cell_type": "code",
   "execution_count": 36,
   "metadata": {},
   "outputs": [],
   "source": [
    "graph.add_edge(0, 1) \n",
    "graph.add_edge(0, 4) \n",
    "graph.add_edge(1, 2) \n",
    "graph.add_edge(1, 3) \n",
    "graph.add_edge(1, 4) \n",
    "graph.add_edge(2, 3) \n",
    "graph.add_edge(3, 4)"
   ]
  },
  {
   "cell_type": "code",
   "execution_count": 37,
   "metadata": {},
   "outputs": [
    {
     "name": "stdout",
     "output_type": "stream",
     "text": [
      "Adjacency List of 0 \n",
      "head->4->1\n",
      "\n",
      "Adjacency List of 1 \n",
      "head->4->3->2->0\n",
      "\n",
      "Adjacency List of 2 \n",
      "head->3->1\n",
      "\n",
      "Adjacency List of 3 \n",
      "head->4->2->1\n",
      "\n",
      "Adjacency List of 4 \n",
      "head->3->1->0\n",
      "\n"
     ]
    }
   ],
   "source": [
    "graph.print_graph()"
   ]
  },
  {
   "cell_type": "code",
   "execution_count": 38,
   "metadata": {},
   "outputs": [],
   "source": [
    "graph.delte_edge(3)"
   ]
  },
  {
   "cell_type": "code",
   "execution_count": 40,
   "metadata": {},
   "outputs": [
    {
     "name": "stdout",
     "output_type": "stream",
     "text": [
      "Adjacency List of 0 \n",
      "head->4->1\n",
      "\n",
      "Adjacency List of 1 \n",
      "head->4->2->0\n",
      "\n",
      "Adjacency List of 2 \n",
      "head->3->1\n",
      "\n",
      "Adjacency List of 3 \n",
      "head\n",
      "\n",
      "Adjacency List of 4 \n",
      "head->3->1->0\n",
      "\n"
     ]
    }
   ],
   "source": [
    "graph.print_graph()"
   ]
  },
  {
   "cell_type": "raw",
   "metadata": {},
   "source": []
  }
 ],
 "metadata": {
  "kernelspec": {
   "display_name": "Python 3",
   "language": "python",
   "name": "python3"
  },
  "language_info": {
   "codemirror_mode": {
    "name": "ipython",
    "version": 3
   },
   "file_extension": ".py",
   "mimetype": "text/x-python",
   "name": "python",
   "nbconvert_exporter": "python",
   "pygments_lexer": "ipython3",
   "version": "3.8.5"
  }
 },
 "nbformat": 4,
 "nbformat_minor": 4
}
