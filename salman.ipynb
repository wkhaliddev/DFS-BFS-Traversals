{
 "cells": [
  {
   "cell_type": "code",
   "execution_count": 286,
   "metadata": {},
   "outputs": [],
   "source": [
    "class GraphClass:\n",
    "    def __init__(self):\n",
    "        self.graph=dict()\n",
    "    def add_edge(self,u,v):\n",
    "        if self.graph.get(u)==None:\n",
    "            self.graph[u]=[v]\n",
    "\n",
    "        else:\n",
    "            if v not in self.graph[u]:\n",
    "                self.graph[u].append(v)            \n",
    "        if self.graph.get(v)==None:\n",
    "            self.graph[v]=[u]\n",
    "\n",
    "        else:\n",
    "            if u not in self.graph[v]:\n",
    "                self.graph[v].append(u)\n",
    "    def print_graph(self):\n",
    "        for i in self.graph.keys():\n",
    "            print(\"vertix\",i)\n",
    "            print(self.graph[i])\n",
    "    def delete_edge(self,u,v):\n",
    "        if self.graph.get(u):\n",
    "            if v in self.graph[u]:\n",
    "                self.graph[u].remove(v)\n",
    "        if self.graph.get(v):\n",
    "            if u in self.graph[v]:\n",
    "                self.graph[v].remove(u)\n",
    "    def get_connected_nodes(self,u):\n",
    "        if self.graph.get(u):\n",
    "            print(u,\" :\",self.graph[u])\n",
    "    def are_connected(self,u,v):\n",
    "        if self.graph.get(u):\n",
    "            if v in self.graph[u]:\n",
    "                return True\n",
    "        return False\n",
    "    def is_valid_path(self,path):\n",
    "        for i in range(len(path)-1):\n",
    "            if path[i] in self.graph.keys():\n",
    "                if path[i+1] not in self.graph[path[i]]:\n",
    "                    return False\n",
    "        return True\n",
    "    #for personal assistance now\n",
    "    def node_check(self,node):\n",
    "        if node in self.graph.keys():\n",
    "            return True\n",
    "        return False\n",
    "    def extended_nodes(self,node):\n",
    "        if len(node)>1:\n",
    "            required_node=node[-1]\n",
    "        else:\n",
    "            required_node=node\n",
    "        return [node+i for i in self.graph[required_node]]\n",
    "            "
   ]
  },
  {
   "cell_type": "code",
   "execution_count": 287,
   "metadata": {},
   "outputs": [],
   "source": [
    "G=GraphClass()"
   ]
  },
  {
   "cell_type": "code",
   "execution_count": 288,
   "metadata": {},
   "outputs": [],
   "source": [
    "G.add_edge(\"A\",\"B\")\n",
    "G.add_edge(\"A\",\"C\")\n",
    "G.add_edge(\"A\",\"D\")\n",
    "G.add_edge(\"C\",\"B\")\n",
    "G.add_edge(\"C\",\"F\")\n",
    "G.add_edge(\"F\",\"B\")\n",
    "G.add_edge(\"D\",\"B\")\n",
    "G.add_edge(\"E\",\"B\")\n",
    "G.add_edge(\"A\",\"F\")\n"
   ]
  },
  {
   "cell_type": "code",
   "execution_count": 289,
   "metadata": {},
   "outputs": [
    {
     "name": "stdout",
     "output_type": "stream",
     "text": [
      "vertix A\n",
      "['B', 'C', 'D', 'F']\n",
      "vertix B\n",
      "['A', 'C', 'F', 'D', 'E']\n",
      "vertix C\n",
      "['A', 'B', 'F']\n",
      "vertix D\n",
      "['A', 'B']\n",
      "vertix F\n",
      "['C', 'B', 'A']\n",
      "vertix E\n",
      "['B']\n"
     ]
    }
   ],
   "source": [
    "G.print_graph()"
   ]
  },
  {
   "cell_type": "code",
   "execution_count": 290,
   "metadata": {},
   "outputs": [],
   "source": [
    "G.delete_edge('A',\"B\")"
   ]
  },
  {
   "cell_type": "code",
   "execution_count": 291,
   "metadata": {},
   "outputs": [
    {
     "name": "stdout",
     "output_type": "stream",
     "text": [
      "vertix A\n",
      "['C', 'D', 'F']\n",
      "vertix B\n",
      "['C', 'F', 'D', 'E']\n",
      "vertix C\n",
      "['A', 'B', 'F']\n",
      "vertix D\n",
      "['A', 'B']\n",
      "vertix F\n",
      "['C', 'B', 'A']\n",
      "vertix E\n",
      "['B']\n"
     ]
    }
   ],
   "source": [
    "G.print_graph()"
   ]
  },
  {
   "cell_type": "code",
   "execution_count": 292,
   "metadata": {},
   "outputs": [
    {
     "name": "stdout",
     "output_type": "stream",
     "text": [
      "B  : ['C', 'F', 'D', 'E']\n"
     ]
    }
   ],
   "source": [
    "G.get_connected_nodes(\"B\")"
   ]
  },
  {
   "cell_type": "code",
   "execution_count": 293,
   "metadata": {},
   "outputs": [
    {
     "data": {
      "text/plain": [
       "False"
      ]
     },
     "execution_count": 293,
     "metadata": {},
     "output_type": "execute_result"
    }
   ],
   "source": [
    "G.are_connected(\"F\",\"E\")"
   ]
  },
  {
   "cell_type": "code",
   "execution_count": 294,
   "metadata": {},
   "outputs": [
    {
     "data": {
      "text/plain": [
       "True"
      ]
     },
     "execution_count": 294,
     "metadata": {},
     "output_type": "execute_result"
    }
   ],
   "source": [
    "G.is_valid_path([\"A\",\"D\",\"B\",\"E\"])"
   ]
  },
  {
   "cell_type": "code",
   "execution_count": 295,
   "metadata": {},
   "outputs": [
    {
     "data": {
      "text/plain": [
       "False"
      ]
     },
     "execution_count": 295,
     "metadata": {},
     "output_type": "execute_result"
    }
   ],
   "source": [
    "G.is_valid_path([\"A\",\"D\",\"B\",\"A\"])"
   ]
  },
  {
   "cell_type": "code",
   "execution_count": 296,
   "metadata": {},
   "outputs": [],
   "source": [
    "def breadth_first_search(graph,start,goal):\n",
    "    \n",
    "    frontier=[]\n",
    "    visited=[]\n",
    "    if graph.node_check(start) and graph.node_check(goal):\n",
    "        pass\n",
    "    else:\n",
    "        return False\n",
    "    frontier.append(start)\n",
    "    while frontier:\n",
    "        \n",
    "        current_node=frontier[0]\n",
    "        if current_node[-1] in visited:\n",
    "            frontier.remove(0)\n",
    "            continue\n",
    "        if current_node[-1]==goal:\n",
    "            frontier=frontier[0]\n",
    "            break\n",
    "        frontier.remove(current_node)\n",
    "        e_nodes=graph.extended_nodes(current_node)\n",
    "        frontier+=e_nodes\n",
    "    print(frontier)\n",
    "        \n",
    "    "
   ]
  },
  {
   "cell_type": "code",
   "execution_count": 297,
   "metadata": {},
   "outputs": [
    {
     "name": "stdout",
     "output_type": "stream",
     "text": [
      "ACBE\n"
     ]
    }
   ],
   "source": [
    "breadth_first_search(G,\"A\",\"E\")"
   ]
  },
  {
   "cell_type": "code",
   "execution_count": 305,
   "metadata": {},
   "outputs": [],
   "source": [
    "def depth_first_search(graph,start,goal):\n",
    "    visited=[]\n",
    "    frontier=[]\n",
    "    if graph.node_check(start) and graph.node_check(goal):\n",
    "        pass\n",
    "    else:\n",
    "        return False\n",
    "    frontier.append(start)\n",
    "    while frontier:\n",
    "        current_node=frontier.pop()\n",
    "        if current_node[-1] in visited:\n",
    "            continue\n",
    "        if goal in current_node:\n",
    "            frontier=current_node\n",
    "            break\n",
    "        e_nodes=graph.extended_nodes(current_node)\n",
    "        #print(e_nodes)\n",
    "        frontier+=e_nodes\n",
    "        #print(frontier)\n",
    "        visited.append(current_node[-1])\n",
    "    print(frontier)"
   ]
  },
  {
   "cell_type": "code",
   "execution_count": 306,
   "metadata": {},
   "outputs": [
    {
     "name": "stdout",
     "output_type": "stream",
     "text": [
      "AFBE\n"
     ]
    }
   ],
   "source": [
    "depth_first_search(G,\"A\",\"E\")"
   ]
  },
  {
   "cell_type": "code",
   "execution_count": 307,
   "metadata": {},
   "outputs": [],
   "source": [
    "g2=GraphClass()\n",
    "g2.add_edge(\"A\",\"B\")\n",
    "g2.add_edge(\"A\",\"C\")\n",
    "g2.add_edge(\"B\",\"D\")\n",
    "g2.add_edge(\"B\",\"E\")\n",
    "g2.add_edge(\"E\",\"H\")\n",
    "g2.add_edge(\"E\",\"I\")\n",
    "g2.add_edge(\"H\",\"L\")\n",
    "g2.add_edge(\"H\",\"M\")\n",
    "g2.add_edge(\"H\",\"N\")\n",
    "g2.add_edge(\"I\",\"O\")\n",
    "g2.add_edge(\"I\",\"P\")\n",
    "g2.add_edge(\"C\",\"F\")\n",
    "g2.add_edge(\"C\",\"G\")\n",
    "g2.add_edge(\"G\",\"J\")\n",
    "g2.add_edge(\"G\",\"K\")\n",
    "g2.add_edge(\"K\",\"Q\")\n"
   ]
  },
  {
   "cell_type": "code",
   "execution_count": 308,
   "metadata": {},
   "outputs": [
    {
     "name": "stdout",
     "output_type": "stream",
     "text": [
      "vertix A\n",
      "['B', 'C']\n",
      "vertix B\n",
      "['A', 'D', 'E']\n",
      "vertix C\n",
      "['A', 'F', 'G']\n",
      "vertix D\n",
      "['B']\n",
      "vertix E\n",
      "['B', 'H', 'I']\n",
      "vertix H\n",
      "['E', 'L', 'M', 'N']\n",
      "vertix I\n",
      "['E', 'O', 'P']\n",
      "vertix L\n",
      "['H']\n",
      "vertix M\n",
      "['H']\n",
      "vertix N\n",
      "['H']\n",
      "vertix O\n",
      "['I']\n",
      "vertix P\n",
      "['I']\n",
      "vertix F\n",
      "['C']\n",
      "vertix G\n",
      "['C', 'J', 'K']\n",
      "vertix J\n",
      "['G']\n",
      "vertix K\n",
      "['G', 'Q']\n",
      "vertix Q\n",
      "['K']\n"
     ]
    }
   ],
   "source": [
    "g2.print_graph()"
   ]
  },
  {
   "cell_type": "code",
   "execution_count": 313,
   "metadata": {},
   "outputs": [
    {
     "name": "stdout",
     "output_type": "stream",
     "text": [
      "ACG\n"
     ]
    }
   ],
   "source": [
    "depth_first_search(g2,\"A\",\"G\")"
   ]
  },
  {
   "cell_type": "code",
   "execution_count": 314,
   "metadata": {},
   "outputs": [
    {
     "name": "stdout",
     "output_type": "stream",
     "text": [
      "ACG\n"
     ]
    }
   ],
   "source": [
    "breadth_first_search(g2,\"A\",\"G\")"
   ]
  },
  {
   "cell_type": "code",
   "execution_count": null,
   "metadata": {},
   "outputs": [],
   "source": []
  }
 ],
 "metadata": {
  "kernelspec": {
   "display_name": "Python 3",
   "language": "python",
   "name": "python3"
  }
 },
 "nbformat": 4,
 "nbformat_minor": 4
}
