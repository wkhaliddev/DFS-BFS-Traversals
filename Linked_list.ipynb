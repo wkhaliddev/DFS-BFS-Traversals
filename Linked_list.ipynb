{
 "cells": [
  {
   "cell_type": "code",
   "execution_count": 82,
   "metadata": {},
   "outputs": [],
   "source": [
    "class Node:\n",
    "    def __init__(self,value):\n",
    "        self.value=value\n",
    "        self.next=None\n",
    "class LinkedList:\n",
    "    def __init__(self,value):\n",
    "        self.head=Node(value)\n",
    "    def appendNode(self,value):\n",
    "        newNode=Node(value)\n",
    "        curr=self.head\n",
    "        while(curr.next):\n",
    "            curr=curr.next\n",
    "        curr.next=newNode\n",
    "        \n",
    "    def printList(self):\n",
    "        curr=self.head\n",
    "        while(curr):\n",
    "            print(curr.value,\" \",end=\"\")\n",
    "            curr=curr.next\n",
    "    def length(self):\n",
    "        count=0\n",
    "        curr=self.head\n",
    "        while (curr):\n",
    "            count+=1\n",
    "            curr=curr.next\n",
    "        print(count)\n",
    "    def deleteNode(self,num):\n",
    "        curr=self.head\n",
    "        prev=self.head\n",
    "        while(curr):\n",
    "            if curr.value==num:\n",
    "                print('yes')\n",
    "                curr=curr.next\n",
    "                prev.next=curr\n",
    "            prev=curr\n",
    "            curr=curr.next\n",
    "            \n",
    "                "
   ]
  },
  {
   "cell_type": "code",
   "execution_count": 83,
   "metadata": {},
   "outputs": [],
   "source": [
    "l1=LinkedList(5)\n",
    "l1.appendNode(3)\n",
    "l1.appendNode(34)\n",
    "l1.appendNode(4)"
   ]
  },
  {
   "cell_type": "code",
   "execution_count": 84,
   "metadata": {},
   "outputs": [
    {
     "name": "stdout",
     "output_type": "stream",
     "text": [
      "5  3  34  4  "
     ]
    }
   ],
   "source": [
    "l1.printList()"
   ]
  },
  {
   "cell_type": "code",
   "execution_count": 85,
   "metadata": {},
   "outputs": [
    {
     "name": "stdout",
     "output_type": "stream",
     "text": [
      "4\n"
     ]
    }
   ],
   "source": [
    "l1.length()"
   ]
  },
  {
   "cell_type": "code",
   "execution_count": 86,
   "metadata": {},
   "outputs": [
    {
     "name": "stdout",
     "output_type": "stream",
     "text": [
      "yes\n"
     ]
    }
   ],
   "source": [
    "l1.deleteNode(34)"
   ]
  },
  {
   "cell_type": "code",
   "execution_count": 87,
   "metadata": {},
   "outputs": [
    {
     "name": "stdout",
     "output_type": "stream",
     "text": [
      "5  3  4  "
     ]
    }
   ],
   "source": [
    "l1.printList()"
   ]
  },
  {
   "cell_type": "code",
   "execution_count": null,
   "metadata": {},
   "outputs": [],
   "source": []
  }
 ],
 "metadata": {
  "kernelspec": {
   "display_name": "Python 3",
   "language": "python",
   "name": "python3"
  },
  "language_info": {
   "codemirror_mode": {
    "name": "ipython",
    "version": 3
   },
   "file_extension": ".py",
   "mimetype": "text/x-python",
   "name": "python",
   "nbconvert_exporter": "python",
   "pygments_lexer": "ipython3",
   "version": "3.8.5"
  }
 },
 "nbformat": 4,
 "nbformat_minor": 4
}
